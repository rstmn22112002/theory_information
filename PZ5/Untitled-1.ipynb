{
 "cells": [
  {
   "cell_type": "code",
   "execution_count": 7,
   "metadata": {},
   "outputs": [
    {
     "name": "stdout",
     "output_type": "stream",
     "text": [
      "0.00010111\n"
     ]
    }
   ],
   "source": [
    "from math import copysign, fabs, floor, isfinite, modf\n",
    "\n",
    "def float_to_bin_fixed(f, precision):\n",
    "    if not isfinite(f):\n",
    "        return repr(f)  # inf nan\n",
    "\n",
    "    sign = '-' * (copysign(1.0, f) < 0)\n",
    "    frac, fint = modf(fabs(f))  # split on fractional, integer parts\n",
    "    n, d = frac.as_integer_ratio()  # frac = numerator / denominator\n",
    "    assert d & (d - 1) == 0  # power of two\n",
    "    \n",
    "    binary = f'{sign}{floor(fint):b}.{n:0{d.bit_length()-1}b}'\n",
    "    rounded_number = round(float(binary), precision)\n",
    "    formatted_number = '{:.{}f}'.format(rounded_number, precision)\n",
    "    return formatted_number\n",
    "\n",
    "# Пример использования функции\n",
    "result = float_to_bin_fixed(0.09, 8)\n",
    "print(result)\n"
   ]
  }
 ],
 "metadata": {
  "kernelspec": {
   "display_name": "Python 3",
   "language": "python",
   "name": "python3"
  },
  "language_info": {
   "codemirror_mode": {
    "name": "ipython",
    "version": 3
   },
   "file_extension": ".py",
   "mimetype": "text/x-python",
   "name": "python",
   "nbconvert_exporter": "python",
   "pygments_lexer": "ipython3",
   "version": "3.9.13"
  }
 },
 "nbformat": 4,
 "nbformat_minor": 2
}
